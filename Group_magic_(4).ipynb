{
  "nbformat": 4,
  "nbformat_minor": 0,
  "metadata": {
    "colab": {
      "provenance": []
    },
    "kernelspec": {
      "name": "python3",
      "display_name": "Python 3"
    },
    "language_info": {
      "name": "python"
    }
  },
  "cells": [
    {
      "cell_type": "code",
      "execution_count": null,
      "metadata": {
        "id": "JRr0LHK_qIFK"
      },
      "outputs": [],
      "source": [
        "#Aamer"
      ]
    },
    {
      "cell_type": "markdown",
      "source": [],
      "metadata": {
        "id": "tqGOa2ILrrDX"
      }
    },
    {
      "cell_type": "code",
      "source": [
        "#Aamer"
      ],
      "metadata": {
        "id": "zA-gXlW3rkUA"
      },
      "execution_count": null,
      "outputs": []
    },
    {
      "cell_type": "code",
      "source": [],
      "metadata": {
        "id": "_9qVEwmZpgwn"
      },
      "execution_count": null,
      "outputs": []
    }
  ]
}